{
  "nbformat": 4,
  "nbformat_minor": 0,
  "metadata": {
    "colab": {
      "name": "Recursive_Swith_Jonlamonthon_6630900022.ipynb",
      "provenance": [],
      "collapsed_sections": [],
      "authorship_tag": "ABX9TyNr5i5HGe9WgngEWvyT3avP",
      "include_colab_link": true
    },
    "kernelspec": {
      "name": "python3",
      "display_name": "Python 3"
    },
    "language_info": {
      "name": "python"
    }
  },
  "cells": [
    {
      "cell_type": "markdown",
      "metadata": {
        "id": "view-in-github",
        "colab_type": "text"
      },
      "source": [
        "<a href=\"https://colab.research.google.com/github/SwithJonlamonthon/BUcode/blob/main/Recursive_Swith_Jonlamonthon_6630900022.ipynb\" target=\"_parent\"><img src=\"https://colab.research.google.com/assets/colab-badge.svg\" alt=\"Open In Colab\"/></a>"
      ]
    },
    {
      "cell_type": "markdown",
      "source": [
        "1. Show step-by-step to find the returned values of the algorithm quiz1."
      ],
      "metadata": {
        "id": "u8TeibnZQWR-"
      }
    },
    {
      "cell_type": "code",
      "source": [
        "def q(n):\n",
        "    if(n<6):\n",
        "      return 4*n\n",
        "    else:\n",
        "      return (3*q(n-6)+2)\n",
        "print(q(5))\n",
        "print(q(10))\n",
        "print(q(16))\n",
        "\n"
      ],
      "metadata": {
        "colab": {
          "base_uri": "https://localhost:8080/"
        },
        "id": "JgPSZ3WRQBhA",
        "outputId": "86a59fe6-63f5-4e8c-cacd-8f14310925fc"
      },
      "execution_count": null,
      "outputs": [
        {
          "output_type": "stream",
          "name": "stdout",
          "text": [
            "20\n",
            "50\n",
            "152\n"
          ]
        }
      ]
    },
    {
      "cell_type": "markdown",
      "source": [
        ">1.1 \n",
        "\n",
        "---\n",
        "\n",
        "\n",
        "    1-> n = 5 ; if n < 6 //True ; return 4 * n ; Ans = 20\n",
        "Ans = 20\n",
        ">1.2\n",
        "\n",
        "---\n",
        "\n",
        "\n",
        "    1->n = 10 ; if n < 6 //False ; return 3*q(n-6)+2; n = 4\n",
        "    2->n = 4 ; if n < 6 //True ; return 4 * n; n = 16\n",
        "    ans = 3*16+2 = 50\n",
        "Ans = 50\n",
        ">1.3\n",
        "\n",
        "---\n",
        "    1->n = 16 ; if n < 6 //False ; return 3*q(n-6)+2; n = 10\n",
        "    2->n = 10 ; if n < 6 //True ; return 3*q(n-6)+2; n = 4\n",
        "    3->2->n = 4 ; if n < 6 //True ; return 4 * n; n = 16\n",
        "    Ans ->1-> 3*16+2 -> return 50\n",
        "          2-> 3*50+2 -> Ans = 152\n",
        "Ans = 152\n",
        "\n",
        "\n",
        "\n",
        "\n",
        "\n",
        "\n",
        "\n",
        "\n",
        "\n",
        "\n"
      ],
      "metadata": {
        "id": "jOauEL-WQoY2"
      }
    },
    {
      "cell_type": "code",
      "source": [],
      "metadata": {
        "id": "_HLAXoeuQLOm"
      },
      "execution_count": null,
      "outputs": []
    },
    {
      "cell_type": "markdown",
      "source": [
        "2. Show step-by-step to find the returned values of the algorithm quiz2`"
      ],
      "metadata": {
        "id": "agzjUzPjUuhV"
      }
    },
    {
      "cell_type": "code",
      "source": [
        "def q2(x,y):\n",
        "      if(x < y):\n",
        "        return -5\n",
        "      else:\n",
        "        return (q2((x-y),y+2)+y)  \n",
        "print(q2(2,8))\n",
        "print(q2(8,2))\n",
        "print(q2(25,12))"
      ],
      "metadata": {
        "colab": {
          "base_uri": "https://localhost:8080/"
        },
        "id": "q9eht4X6Uz1G",
        "outputId": "fb78177d-bb99-49ed-bcbc-6a37f63a28c3"
      },
      "execution_count": 11,
      "outputs": [
        {
          "output_type": "stream",
          "name": "stdout",
          "text": [
            "5\n",
            "11\n",
            "17\n"
          ]
        }
      ]
    },
    {
      "cell_type": "markdown",
      "source": [
        "2.1\n",
        "\n",
        "---\n",
        "\n",
        "\n",
        "    1-> x = 2 , y = 8 ; if (x < y) //True ; return -5\n",
        "  Ans = -5\n",
        "\n",
        "2.2\n",
        "\n",
        "---\n",
        "\n",
        "    1-> x = 8 , y = 2 ; if (x < y) //False ; return (q2((x-y),y+2)+y) ; x = 6, y = 4\n",
        "    2-> x = 6, y = 4 ; if (x < y) //False ; return (q2((x-y),y+2)+y) ; x = 2, y = 6 \n",
        "    3-> x = 2 , y = 6 ; if (x < y) //True ; return -5\n",
        "    Ans ->1 -> -5 + 4 //Cause the parameter from 2ed round have change(y+2)\n",
        "          2 -> -1 + 2 //1st round have y = 2 \n",
        "    \n",
        "Ans = 1\n",
        "\n",
        "2.3\n",
        "\n",
        "---\n",
        "\n",
        "    1-> x = 25 , y = 12 ; if (x < y) //False ; return (q2((x-y),y+2)+y) ; x = 13, y = 14\n",
        "    2-> x = 13 , y = 14 ; if (x < y) //True ; return -5 ; \n",
        "    Ans ->1-> -5 + 12 \n",
        "\n",
        "Ans = 7\n",
        "\n"
      ],
      "metadata": {
        "id": "OqMOEE5BVy5f"
      }
    },
    {
      "cell_type": "markdown",
      "source": [
        "The combination of n objects taken by k at a time can be determined according to the recursive algorithm below."
      ],
      "metadata": {
        "id": "zd7e5vw-gk35"
      }
    },
    {
      "cell_type": "code",
      "source": [
        "def com(n,k):\n",
        "    if k == 0 or n == k:\n",
        "      return 1\n",
        "    elif n > k and k > 0:\n",
        "      return com(n-1,k)+com(n-1,k-1)\n",
        "\n",
        "print(com(3,2))\n",
        "\n"
      ],
      "metadata": {
        "colab": {
          "base_uri": "https://localhost:8080/"
        },
        "id": "FBpPWipKgsdW",
        "outputId": "903accdc-90d6-4782-be88-6bcb651b27cc"
      },
      "execution_count": 19,
      "outputs": [
        {
          "output_type": "stream",
          "name": "stdout",
          "text": [
            "3\n"
          ]
        }
      ]
    },
    {
      "cell_type": "markdown",
      "source": [
        "if n = k or k = 0 this function gonna return 1 \n",
        "\n",
        "---\n",
        "if n < k this function gonna return NULL\n",
        "\n",
        "---\n",
        "IF n = 3 k = 2\n",
        "\n",
        "---\n",
        "    1-> if(k == 0 or n == k)//false/ else  if(n > k and k > 0)//True\n",
        "        return com(n-1,k)+com(n-1,k-1) \n",
        "        1.1 n = 2 , k = 2 / 1.2 n = 2 , k = 1\n",
        "    2-> if(k == 0 or n == k)//1.1 true/1.2 false/ else  if(n > k and k > 0)//1.2 True/ 1.1 false\n",
        "        1.1 return 1(This function stop) / 1.2 return com(n-1,k)+com(n-1,k-1) \n",
        "          1.2.1 n = 1 , k = 1 / 1.2.2 n = 1 , k = 0\n",
        "    3-> 1.2.1 and 1.2.2 return 1 because if(k == 0 or n == k)// True\n",
        "\n",
        "    Ans-> 1 -> 1 + 1 \n",
        "          2 -> 1 + 2\n",
        "\n",
        "Ans = 3\n",
        "\n",
        "        \n",
        "\n"
      ],
      "metadata": {
        "id": "7KTsgQFxh8EX"
      }
    },
    {
      "cell_type": "code",
      "source": [],
      "metadata": {
        "id": "LVMMbAxMU399"
      },
      "execution_count": null,
      "outputs": []
    }
  ]
}