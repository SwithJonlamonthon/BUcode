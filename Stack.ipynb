{
  "nbformat": 4,
  "nbformat_minor": 0,
  "metadata": {
    "colab": {
      "provenance": [],
      "collapsed_sections": [],
      "authorship_tag": "ABX9TyO89Fg3wqW9jYPbyVuOIfb6",
      "include_colab_link": true
    },
    "kernelspec": {
      "name": "python3",
      "display_name": "Python 3"
    },
    "language_info": {
      "name": "python"
    }
  },
  "cells": [
    {
      "cell_type": "markdown",
      "metadata": {
        "id": "view-in-github",
        "colab_type": "text"
      },
      "source": [
        "<a href=\"https://colab.research.google.com/github/SwithJonlamonthon/BUcode/blob/main/Stack.ipynb\" target=\"_parent\"><img src=\"https://colab.research.google.com/assets/colab-badge.svg\" alt=\"Open In Colab\"/></a>"
      ]
    },
    {
      "cell_type": "markdown",
      "source": [
        "4. Use these two parts of code to create application for Infix to Postfix Conversion\n",
        "\n",
        "  Test with (A + B) * C - D * F + C"
      ],
      "metadata": {
        "id": "awNTOIJxUulF"
      }
    },
    {
      "cell_type": "code",
      "source": [
        "stack = []\n",
        "stack.append('a')\n",
        "stack.append('b')\n",
        "stack.append('c')\n",
        "print('Initial stack')\n",
        "print(stack)\n",
        "print('\\nElements poped from stack:')\n",
        "print(stack.pop())\n",
        "print(stack.pop())\n",
        "print(stack.pop())\n",
        "print('\\nStack after elements are poped:')\n",
        "print(stack)\n",
        "\n",
        "queue = [\"Amar\", \"Akbar\", \"Anthony\"]\n",
        "queue.append(\"Ram\")\n",
        "queue.append(\"Iqbal\")\n",
        "print(queue)\n",
        "print(queue.pop(0))\n",
        "print(queue)\n",
        "print(queue.pop(0))"
      ],
      "metadata": {
        "colab": {
          "base_uri": "https://localhost:8080/"
        },
        "id": "QFk62NU_Ux98",
        "outputId": "e444aea1-c9e6-4af5-ccb2-ae64432fff0a"
      },
      "execution_count": 10,
      "outputs": [
        {
          "output_type": "stream",
          "name": "stdout",
          "text": [
            "Initial stack\n",
            "['a', 'b', 'c']\n",
            "\n",
            "Elements poped from stack:\n",
            "c\n",
            "b\n",
            "a\n",
            "\n",
            "Stack after elements are poped:\n",
            "[]\n",
            "['Amar', 'Akbar', 'Anthony', 'Ram', 'Iqbal']\n",
            "Amar\n",
            "['Akbar', 'Anthony', 'Ram', 'Iqbal']\n",
            "Akbar\n"
          ]
        }
      ]
    },
    {
      "cell_type": "markdown",
      "source": [
        "Initial stack just show how the stack is work\n",
        "\n",
        "- That mean the stack is pop last index for the first\n",
        "\n",
        "In the 2ed array show just like the first array\n",
        "\n",
        "- When u push data inside stack it is work like when it pop data"
      ],
      "metadata": {
        "id": "qdrcbBB2VKbj"
      }
    },
    {
      "cell_type": "markdown",
      "source": [
        "5. Use these two parts of code to create application for Postfix Result Calculation\n",
        "\n",
        "  Test with 2 3 4 + * 5 -"
      ],
      "metadata": {
        "id": "njsUft3HWEZ-"
      }
    },
    {
      "cell_type": "code",
      "source": [
        "#######THIS CODE just explain how stack is work\n",
        "\n",
        "value = \"\" ###For keep data str\n",
        "cal = \"\" ###for calculate\n",
        "ex = \"\" ### For keep exception\n",
        "stack = [\"2\",\"3\",\"4\",\"+\",\"*\",\"5\",\"-\"]\n",
        "value = value + stack.pop(0)  ### POP str to value \n",
        "print(value)\n",
        "value = value + stack.pop(0)\n",
        "print(value)\n",
        "value = value + stack.pop(0)\n",
        "print(value)\n",
        "value = value + stack.pop(0)\n",
        "print(value)\n",
        "ex = value[-1:]\n",
        "print(\"1st: \"+value[-2:-1]+ex+value[-3:-2])\n",
        "cal = eval(value[-2:-1]+ex+value[-3:-2]) ### eval() convert string to equaltion\n",
        "cal = str(cal)\n",
        "value = value + stack.pop(0)\n",
        "print(value)\n",
        "ex = value[-1:]\n",
        "print(\"2ed: \"+value[-5:-4]+ex+cal)\n",
        "cal = eval(value[-5:-4]+ex+cal)\n",
        "cal = str(cal)\n",
        "value = value + stack.pop(0)\n",
        "print(value)\n",
        "value = value + stack.pop(0)\n",
        "print(value)\n",
        "ex = value[-1:]\n",
        "print(\"3rd: \"+cal+ex+value[-2:-1])\n",
        "cal = eval(cal+ex+value[-2:-1])\n",
        "print(\"result is\",cal)\n",
        "\n"
      ],
      "metadata": {
        "colab": {
          "base_uri": "https://localhost:8080/"
        },
        "id": "5Zj2ott9WPyV",
        "outputId": "37dc1055-03ef-48a5-8856-94eb0b0e05e0"
      },
      "execution_count": 62,
      "outputs": [
        {
          "output_type": "stream",
          "name": "stdout",
          "text": [
            "2\n",
            "23\n",
            "234\n",
            "234+\n",
            "1st: 4+3\n",
            "234+*\n",
            "2ed: 2*7\n",
            "234+*5\n",
            "234+*5-\n",
            "3rd: 14-5\n",
            "result is 9\n"
          ]
        }
      ]
    },
    {
      "cell_type": "code",
      "source": [],
      "metadata": {
        "id": "-a8XfxOpYR7j"
      },
      "execution_count": null,
      "outputs": []
    }
  ]
}